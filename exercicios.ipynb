{
 "cells": [
  {
   "cell_type": "code",
   "execution_count": null,
   "metadata": {},
   "outputs": [],
   "source": [
    "print(\"Olá, Mundo!\")"
   ]
  },
  {
   "cell_type": "code",
   "execution_count": null,
   "metadata": {},
   "outputs": [],
   "source": [
    "def soma(x,y):\n",
    "    x + y == resultado\n",
    "    return resultado\n",
    "\n",
    "x = int(input(\"Insira um número inteiro: \"))\n",
    "y = int(input(\"Insira um número inteiro: \"))\n",
    "resultado = x + y\n",
    "\n",
    "print(resultado)"
   ]
  },
  {
   "cell_type": "code",
   "execution_count": null,
   "metadata": {},
   "outputs": [],
   "source": [
    "def par_ou_impar():\n",
    "    numero = int(input(\"Insira um número inteiro para descobrir se é par ou ímpar: \"))\n",
    "    if numero %2 == 0:\n",
    "        print(f\"O número {numero} é par\")\n",
    "    else:\n",
    "        print(f\"O número {numero} é ímpar\")\n",
    "\n",
    "par_ou_impar()"
   ]
  },
  {
   "cell_type": "code",
   "execution_count": null,
   "metadata": {},
   "outputs": [],
   "source": [
    "def calculadora():\n",
    "    numero1 = int(input(\"Insira um número: \"))\n",
    "    numero2 = int(input(\"Insira um número: \"))\n",
    "    operacao = input(\"Qual operação deseja fazer? +, -, *, /\")\n",
    "\n",
    "    if operacao == \"+\":\n",
    "        resultado = numero1 + numero2\n",
    "        print(resultado)\n",
    "    elif operacao == \"-\":\n",
    "        resultado = numero1 - numero2\n",
    "        print(resultado)\n",
    "    elif operacao == \"*\":\n",
    "        resultado = numero1 * numero2\n",
    "        print(resultado)\n",
    "    elif operacao == \"/\":\n",
    "        resultado = numero1 / numero2\n",
    "        print(resultado)\n",
    "calculadora()"
   ]
  },
  {
   "cell_type": "code",
   "execution_count": null,
   "metadata": {},
   "outputs": [],
   "source": [
    "def media():\n",
    "    media1 = float(input(\"Insira a nota da P1: \"))\n",
    "    media2 = float(input(\"Insira a nota da P2: \"))\n",
    "    media3 = float(input(\"Insira a nota da P3: \"))\n",
    "    soma_medias = media1 + media2 + media3\n",
    "    media_final = soma_medias /3\n",
    "    print(media_final)\n",
    "media()"
   ]
  },
  {
   "cell_type": "code",
   "execution_count": null,
   "metadata": {},
   "outputs": [],
   "source": [
    "def temperatura():\n",
    "    celsius = float(input(\"Insira a temperatura em grau celsius: \"))\n",
    "    resultado = (celsius * 1.8) + 32\n",
    "    print(f\"{celsius}°C em  Fahrenheit são, {resultado}°F\")\n",
    "temperatura()"
   ]
  },
  {
   "cell_type": "code",
   "execution_count": null,
   "metadata": {},
   "outputs": [],
   "source": [
    "def fatorial(numero):\n",
    "    resultado = 1\n",
    "    for i in range(1, numero + 1):\n",
    "        resultado *= i\n",
    "    return resultado\n",
    "\n",
    "numero = int(input(\"Insira um número\"))\n",
    "resultado = fatorial(numero)\n",
    "print(f\"O fatorial de {numero} é {resultado}\")"
   ]
  },
  {
   "cell_type": "code",
   "execution_count": null,
   "metadata": {},
   "outputs": [],
   "source": [
    "def impares():\n",
    "    for numero in range(1, 101):\n",
    "        if numero %2 != 0:\n",
    "            print(numero)\n",
    "\n",
    "impares()"
   ]
  },
  {
   "cell_type": "code",
   "execution_count": 34,
   "metadata": {},
   "outputs": [
    {
     "name": "stdout",
     "output_type": "stream",
     "text": [
      "13 é um número primo.\n"
     ]
    }
   ],
   "source": [
    "def primo(numero):\n",
    "    if numero <= 1:\n",
    "        return False\n",
    "    for i in range(2, int(numero**0.5) + 1):\n",
    "        if numero % i == 0:\n",
    "            return False\n",
    "    return True\n",
    "\n",
    "numero = int(input(\"Insira um número: \"))\n",
    "if primo(numero):\n",
    "    print(f\"{numero} é um número primo.\")\n",
    "else:\n",
    "    print(f\"{numero} não é um número primo.\")"
   ]
  },
  {
   "cell_type": "code",
   "execution_count": 35,
   "metadata": {},
   "outputs": [
    {
     "name": "stdout",
     "output_type": "stream",
     "text": [
      "A string invertida é: alo\n"
     ]
    }
   ],
   "source": [
    "def inverter_string(string):\n",
    "    return string[::-1]\n",
    "\n",
    "string = input(\"Digite uma string: \")\n",
    "string_invertida = inverter_string(string)\n",
    "print(f\"A string invertida é: {string_invertida}\")"
   ]
  },
  {
   "cell_type": "code",
   "execution_count": null,
   "metadata": {},
   "outputs": [],
   "source": [
    "def tabuada(numero):\n",
    "    for i in range(1, 11):\n",
    "        print(f\"{numero} x {i} = {numero * i}\")\n",
    "\n",
    "numero = int(input(\"Insira um número: \"))\n",
    "tabuada(numero)"
   ]
  },
  {
   "cell_type": "code",
   "execution_count": 36,
   "metadata": {},
   "outputs": [
    {
     "name": "stdout",
     "output_type": "stream",
     "text": [
      "O número de vogais na string é: 17\n"
     ]
    }
   ],
   "source": [
    "def vogais(string):\n",
    "    vogais = \"aeiouAEIOU\"\n",
    "    contador = 0\n",
    "    for caractere in string:\n",
    "        if caractere in vogais:\n",
    "            contador += 1\n",
    "    return contador\n",
    "\n",
    "string = input(\"Digite uma string: \")\n",
    "numero_vogais = vogais(string)\n",
    "print(f\"O número de vogais na string é: {numero_vogais}\")"
   ]
  },
  {
   "cell_type": "code",
   "execution_count": 37,
   "metadata": {},
   "outputs": [
    {
     "name": "stdout",
     "output_type": "stream",
     "text": [
      "A soma dos númros é: 15\n"
     ]
    }
   ],
   "source": [
    "def soma_lista(lista):\n",
    "    return sum(lista)\n",
    "\n",
    "numeros = [1, 2, 3, 4, 5]\n",
    "\n",
    "soma = soma_lista(numeros)\n",
    "print(f\"A soma dos números é: {soma}\")"
   ]
  },
  {
   "cell_type": "code",
   "execution_count": 38,
   "metadata": {},
   "outputs": [
    {
     "name": "stdout",
     "output_type": "stream",
     "text": [
      "O maior número da lista é: 12\n"
     ]
    }
   ],
   "source": [
    "def maiornum(lista):\n",
    "    return max(lista)\n",
    "\n",
    "numeros = list(map(int, input(\"Digite os números separados por espaço: \").split()))\n",
    "\n",
    "maior_numero = maiornum(numeros)\n",
    "print(f\"O maior número da lista é: {maior_numero}\")"
   ]
  },
  {
   "cell_type": "code",
   "execution_count": 39,
   "metadata": {},
   "outputs": [
    {
     "name": "stdout",
     "output_type": "stream",
     "text": [
      "Números pares: [2, 4, 6, 8, 10]\n"
     ]
    }
   ],
   "source": [
    "def mostrar_pares(lista):\n",
    "    pares = [numero for numero in lista if numero % 2 == 0]\n",
    "    return pares\n",
    "\n",
    "lista_numeros = [1, 2, 3, 4, 5, 6, 7, 8, 9, 10]\n",
    "pares = mostrar_pares(lista_numeros)\n",
    "print(\"Números pares:\", pares)"
   ]
  },
  {
   "cell_type": "code",
   "execution_count": 40,
   "metadata": {},
   "outputs": [
    {
     "name": "stdout",
     "output_type": "stream",
     "text": [
      "10\n",
      "9\n",
      "8\n",
      "7\n",
      "6\n",
      "5\n",
      "4\n",
      "3\n",
      "2\n",
      "1\n",
      "0\n"
     ]
    }
   ],
   "source": [
    "def contagem_regressiva(inicio):\n",
    "    for i in range(inicio, -1, -1):\n",
    "        print(i)\n",
    "\n",
    "contagem_regressiva(10)"
   ]
  },
  {
   "cell_type": "code",
   "execution_count": 41,
   "metadata": {},
   "outputs": [
    {
     "name": "stdout",
     "output_type": "stream",
     "text": [
      "Primeiros 10 números da sequência de Fibonacci: [0, 1, 1, 2, 3, 5, 8, 13, 21, 34]\n"
     ]
    }
   ],
   "source": [
    "def fibonacci(n):\n",
    "    seq = [0, 1]\n",
    "    while len(seq) < n:\n",
    "        seq.append(seq[-1] + seq[-2])\n",
    "    return seq\n",
    "\n",
    "primeiros_10_fibonacci = fibonacci(10)\n",
    "print(\"Primeiros 10 números da sequência de Fibonacci:\", primeiros_10_fibonacci)"
   ]
  },
  {
   "cell_type": "code",
   "execution_count": 66,
   "metadata": {},
   "outputs": [
    {
     "name": "stdout",
     "output_type": "stream",
     "text": [
      "Resultado do lançamento: coroa\n"
     ]
    }
   ],
   "source": [
    "import random\n",
    "\n",
    "def lancar_moeda():\n",
    "    resultado = random.choice([\"cara\", \"coroa\"])\n",
    "    return resultado\n",
    "\n",
    "# Exemplo de uso\n",
    "resultado_lancamento = lancar_moeda()\n",
    "print(\"Resultado do lançamento:\", resultado_lancamento)"
   ]
  },
  {
   "cell_type": "code",
   "execution_count": 70,
   "metadata": {},
   "outputs": [
    {
     "name": "stdout",
     "output_type": "stream",
     "text": [
      "A palavra 'joao' não é um palíndromo.\n"
     ]
    }
   ],
   "source": [
    "def verificar_palindromo(palavra):\n",
    "    palavra = palavra.replace(\" \", \"\").lower()\n",
    "    return palavra == palavra[::-1]\n",
    "\n",
    "palavra1 = input(\"Digite uma palavra para verificar se é um palíndromo: \")\n",
    "if verificar_palindromo(palavra1):\n",
    "    print(f\"A palavra '{palavra1}' é um palíndromo.\")\n",
    "else:\n",
    "    print(f\"A palavra '{palavra1}' não é um palíndromo.\")"
   ]
  },
  {
   "cell_type": "code",
   "execution_count": 73,
   "metadata": {},
   "outputs": [
    {
     "name": "stdout",
     "output_type": "stream",
     "text": [
      "Bem-vindo ao jogo de adivinhação!\n",
      "Tente adivinhar o número entre 1 e 100.\n",
      "O número é maior.\n",
      "O número é maior.\n",
      "O número é menor.\n",
      "O número é maior.\n",
      "O número é menor.\n",
      "O número é maior.\n",
      "O número é menor.\n",
      "O número é maior.\n",
      "Parabéns! Você acertou o número 38 em 9 tentativas.\n"
     ]
    }
   ],
   "source": [
    "import random\n",
    "\n",
    "def jogo_adivinhacao():\n",
    "    numero_secreto = random.randint(1, 100)\n",
    "    tentativas = 0\n",
    "\n",
    "    print(\"Bem-vindo ao jogo de adivinhação!\")\n",
    "    print(\"Tente adivinhar o número entre 1 e 100.\")\n",
    "\n",
    "    while True:\n",
    "        tentativa = int(input(\"Digite sua tentativa: \"))\n",
    "        tentativas += 1\n",
    "        \n",
    "        if tentativa < numero_secreto:\n",
    "            print(\"O número é maior.\")\n",
    "        elif tentativa > numero_secreto:\n",
    "            print(\"O número é menor.\")\n",
    "        else:\n",
    "            print(f\"Parabéns! Você acertou o número {numero_secreto} em {tentativas} tentativas.\")\n",
    "            break\n",
    "\n",
    "jogo_adivinhacao()"
   ]
  }
 ],
 "metadata": {
  "kernelspec": {
   "display_name": "Python 3",
   "language": "python",
   "name": "python3"
  },
  "language_info": {
   "codemirror_mode": {
    "name": "ipython",
    "version": 3
   },
   "file_extension": ".py",
   "mimetype": "text/x-python",
   "name": "python",
   "nbconvert_exporter": "python",
   "pygments_lexer": "ipython3",
   "version": "3.11.4"
  }
 },
 "nbformat": 4,
 "nbformat_minor": 2
}
